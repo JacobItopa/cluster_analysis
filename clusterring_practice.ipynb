{
  "nbformat": 4,
  "nbformat_minor": 0,
  "metadata": {
    "colab": {
      "provenance": [],
      "authorship_tag": "ABX9TyNUp06zXCM/rlOnQMjaUXKg",
      "include_colab_link": true
    },
    "kernelspec": {
      "name": "python3",
      "display_name": "Python 3"
    },
    "language_info": {
      "name": "python"
    }
  },
  "cells": [
    {
      "cell_type": "markdown",
      "metadata": {
        "id": "view-in-github",
        "colab_type": "text"
      },
      "source": [
        "<a href=\"https://colab.research.google.com/github/JacobItopa/cluster_analysis/blob/main/clusterring_practice.ipynb\" target=\"_parent\"><img src=\"https://colab.research.google.com/assets/colab-badge.svg\" alt=\"Open In Colab\"/></a>"
      ]
    },
    {
      "cell_type": "markdown",
      "metadata": {
        "id": "hEX09BTsVioT"
      },
      "source": [
        "# Clustering"
      ]
    },
    {
      "cell_type": "markdown",
      "metadata": {
        "id": "GsGHtjD2OqFa"
      },
      "source": [
        "## Key Components of Cluster Analysis"
      ]
    },
    {
      "cell_type": "markdown",
      "metadata": {
        "id": "6kEGngaxOubZ"
      },
      "source": [
        "* Distance/similarity/dissimilarity function\n",
        "* Loss function to evaluate clusters\n",
        "* Algorithm to optimize loss function\n",
        "* Goal:  Find natural groupings in data\n",
        "  * Form of unsupervised learning\n",
        "  * Often the \"correct\" groupings are unknown\n",
        "  * Samples within a group should be more similar than samples in different groups"
      ]
    },
    {
      "cell_type": "markdown",
      "metadata": {
        "id": "mxs3EV3Qw0IR"
      },
      "source": [
        "## Distance Metrics"
      ]
    },
    {
      "cell_type": "markdown",
      "metadata": {
        "id": "v-i0tr3Bw3KM"
      },
      "source": [
        "<img src=\"https://upload.wikimedia.org/wikipedia/commons/thumb/5/55/Euclidean_distance_2d.svg/2880px-Euclidean_distance_2d.svg.png\" width=\"400\">\n",
        "\n",
        "Distance metrics (Hamming, Euclidean, Cosine, Mahalanobis)"
      ]
    }
  ]
}